{
 "cells": [
  {
   "cell_type": "code",
   "execution_count": null,
   "id": "81779b31-b85b-47c9-8384-d39b38896dbd",
   "metadata": {},
   "outputs": [],
   "source": [
    "%matplotlib inline"
   ]
  },
  {
   "cell_type": "code",
   "execution_count": null,
   "id": "585d6b98-c21f-48fd-83df-91d7e02dbc00",
   "metadata": {},
   "outputs": [],
   "source": [
    "import fastmap\n",
    "import h5py\n",
    "import matplotlib.pyplot as plt\n",
    "import numpy as np\n",
    "import sklearn.metrics\n",
    "import sklearn.pipeline\n",
    "import sklearn.preprocessing\n",
    "import sklearn.svm"
   ]
  },
  {
   "cell_type": "markdown",
   "id": "e62ad6de-2bc3-4cf9-982c-ffaa238543f8",
   "metadata": {},
   "source": [
    "# 1. Introduction: $X \\rightarrow$ FastMap $\\rightarrow$ SVM $\\rightarrow \\widehat{y}$\n",
    "This tutorial demonstrates how to train and deploy the FastMapSVM classification model. As the name implies, FastMapSVM comprises two critical components: (1) the FastMap algorithm, and (2) an SVM classifier. The FastMap algorithm is implemented as a data transformation compatible with the `sklearn.pipeline.Pipeline` API. This allows the FastMapSVM model to be implemented as a simple `Pipeline` with optional intermediate transformations, such as data re-scaling."
   ]
  },
  {
   "cell_type": "markdown",
   "id": "a80d8831-6dfc-4e8a-93f1-b16b514feebb",
   "metadata": {},
   "source": [
    "# 2. Setup\n",
    "## 2.1 Define the distance function\n",
    "To deploy the FastMapSVM algorithm, the user must define the distance function that quantifies the dissimilarity between any pair of objects in the train/test data. The distance function must adhere to NumPy's [broadcasting rules](https://numpy.org/doc/stable/user/basics.broadcasting.html): Given input arrays `a` and `b` with shapes $(M, 1, ...)$ and $(1, N, ...)$, respectively, it should return the $M \\times N$ distance matrix."
   ]
  },
  {
   "cell_type": "code",
   "execution_count": null,
   "id": "03885713-4034-4da1-8767-dd6c1db127f2",
   "metadata": {},
   "outputs": [],
   "source": [
    "def correlation_distance(a, b, axis=-1):\n",
    "        '''\n",
    "        Compute the pair-wise correlation distance matrix.\n",
    "        '''\n",
    "        xcorr = correlate(a, b, axis=axis)\n",
    "        xcorr = np.abs(xcorr)\n",
    "        xcorr = np.nanmean(xcorr, axis=-2)\n",
    "        xcorr = np.max(xcorr, axis=-1)\n",
    "        xcorr = np.clip(xcorr, 0, 1)\n",
    "        \n",
    "        return 1 - xcorr\n",
    "    \n",
    "\n",
    "def correlate(a, b, axis=-1):\n",
    "    A = np.fft.rfft(a, axis=axis)\n",
    "    B = np.fft.rfft(b, axis=axis)\n",
    "    X = A * np.conj(B)\n",
    "    x = np.fft.irfft(X)\n",
    "    x = np.fft.fftshift(x, axes=axis)\n",
    "    norm = np.sqrt(\n",
    "        a.shape[-1] * np.var(a, axis=axis)\n",
    "        *\n",
    "        b.shape[-1] * np.var(b, axis=axis)\n",
    "    )\n",
    "    norm = norm[..., np.newaxis]\n",
    "\n",
    "    return np.nan_to_num(x / norm, neginf=0, posinf=0)"
   ]
  },
  {
   "cell_type": "markdown",
   "id": "a1f42654-2de9-47ac-b093-1f1e8f570a1b",
   "metadata": {},
   "source": [
    "**Note**: If your distance cannot be easily vectorized, the code below implements a generic loop that applies the necessary broadcasting rules and calls the distance function in singleton fashion (i.e., on individual pairs of objects)."
   ]
  },
  {
   "cell_type": "code",
   "execution_count": null,
   "id": "8a0d4f1c-b946-4642-920d-bdb714d0f684",
   "metadata": {},
   "outputs": [],
   "source": [
    "def generic_distance(A, B, axis=-1):\n",
    "    '''\n",
    "    Return the (broadcasted) distance matrix between multidimensional\n",
    "    arrays of objects A and B.\n",
    "    '''\n",
    "    # Build the output array with broadcasting rules applied.\n",
    "    shape = np.broadcast_shapes(A.shape, B.shape)\n",
    "    axis = axis if axis > 1 else len(shape) + axis\n",
    "    shape = shape[:axis] + shape[axis+1:]\n",
    "    output = np.empty(shape)\n",
    "    n_dim = output.ndim\n",
    "\n",
    "    # Loop over elements and compute distances.\n",
    "    for ijk in np.ndindex(*output.shape):\n",
    "        ijk_A = tuple([ijk[i] if A.shape[i] != 1 else 0 for i in range(len(ijk))])\n",
    "        ijk_B = tuple([ijk[i] if B.shape[i] != 1 else 0 for i in range(len(ijk))])\n",
    "        output[ijk] = _distance_singleton(A[ijk_A], B[ijk_B])\n",
    "        \n",
    "    return output\n",
    "        \n",
    "def _distance_singleton(a, b, axis=-1):\n",
    "    '''\n",
    "    Return the distance between a pair of objects a and b.\n",
    "    '''\n",
    "    return np.linalg.norm(a - b, axis=axis)\n",
    "\n",
    "\n",
    "np.all(generic_distance(a, b) == np.linalg.norm(a - b, axis=-1))"
   ]
  },
  {
   "cell_type": "markdown",
   "id": "6ec9a53f-03d7-4541-a6be-63d8cc68a59f",
   "metadata": {},
   "source": [
    "## 2.2 Implement concrete FastMap class.\n",
    "The `fastmap` module provides an abstract base class `fastmap.FastMapABC` that is not intended to be used directly. The user should define a child class that adds a `_distance_function` attribute to the abstract base class. Implementing the model this way supports models persistence."
   ]
  },
  {
   "cell_type": "code",
   "execution_count": null,
   "id": "abf45e35-bc06-4c7e-bfe0-277c633f399c",
   "metadata": {},
   "outputs": [],
   "source": [
    "class FastMap(fastmap.FastMapABC):\n",
    "    def __init__(self, *args, **kwargs):\n",
    "        super().__init__(*args, **kwargs)\n",
    "        self._distance_func = correlation_distance"
   ]
  },
  {
   "cell_type": "markdown",
   "id": "f4a9ef04-98a9-45b3-9bd8-8de42c8f362e",
   "metadata": {},
   "source": [
    "# 3. Model training\n",
    "## 3.1 Load the train and test data."
   ]
  },
  {
   "cell_type": "code",
   "execution_count": null,
   "id": "2e796a34-45ae-45aa-b3f6-c041acf8dbc8",
   "metadata": {},
   "outputs": [],
   "source": [
    "with h5py.File('../data/ridgecrest.hdf5', mode='r') as in_file:\n",
    "    X_train = in_file['/X/train'][:]\n",
    "    y_train = in_file['/y/train'][:]\n",
    "\n",
    "    X_test = in_file['/X/test'][:]\n",
    "    y_test = in_file['/y/test'][:]"
   ]
  },
  {
   "cell_type": "markdown",
   "id": "ed814540-85eb-4d98-a16d-0771a97a4498",
   "metadata": {},
   "source": [
    "## 3.2 Build a `sklearn.pipeline.Pipeline`\n",
    "The FastMapSVM model benefits from rescaling the extracted features before SVM classification."
   ]
  },
  {
   "cell_type": "code",
   "execution_count": null,
   "id": "87b2702e-02de-491d-9e3f-7776de3c03ea",
   "metadata": {},
   "outputs": [],
   "source": [
    "n_dim = 2 # The number of dimensions for the Euclidean embedding.\n",
    "fastmapsvm = sklearn.pipeline.Pipeline([\n",
    "    ('fastmap', FastMap(n_dim)),\n",
    "    ('scaler', sklearn.preprocessing.StandardScaler()),\n",
    "    ('svc', sklearn.svm.SVC())\n",
    "])\n",
    "fastmapsvm"
   ]
  },
  {
   "cell_type": "markdown",
   "id": "136e2fb4-786c-44d9-b919-8389a66fe635",
   "metadata": {},
   "source": [
    "## 3.3 Train and score the model using the train data"
   ]
  },
  {
   "cell_type": "code",
   "execution_count": null,
   "id": "ea3fcc98-3fb7-4cb6-8a8a-4cf9631f76c4",
   "metadata": {},
   "outputs": [],
   "source": [
    "fastmapsvm.fit(X_train, y_train);\n",
    "fastmapsvm.score(X_train, y_train)"
   ]
  },
  {
   "cell_type": "markdown",
   "id": "19ffabdb-afcd-4cad-9883-adaeed37f970",
   "metadata": {},
   "source": [
    "## 3.4 View the embedding of the train data\n",
    "Sub-components of the Pipeline can be extracted via indexing."
   ]
  },
  {
   "cell_type": "code",
   "execution_count": null,
   "id": "0daeeca9-e323-4fc4-b3a0-f592bebef9e1",
   "metadata": {},
   "outputs": [],
   "source": [
    "fastmapsvm[:2]"
   ]
  },
  {
   "cell_type": "code",
   "execution_count": null,
   "id": "dd33b06c-ff7a-47b6-b3d7-a432566d03f9",
   "metadata": {},
   "outputs": [],
   "source": [
    "# Compute the embedding of the train data\n",
    "W = fastmapsvm[0].transform(X_train)\n",
    "\n",
    "plt.close('all')\n",
    "fig, ax = plt.subplots()\n",
    "for label in range(2):\n",
    "    idxs = np.argwhere(y_train == label).flatten()\n",
    "    ax.scatter(W[idxs, 0], W[idxs, 1])\n",
    "ax.set_aspect(1)\n",
    "ax.set_xlabel('$w_0$')\n",
    "ax.set_ylabel('$w_1$')"
   ]
  },
  {
   "cell_type": "markdown",
   "id": "cf9e48db-6141-469e-8e41-aa94324d9d18",
   "metadata": {},
   "source": [
    "# 4. Model testing\n",
    "## 4.1 Score the model on the test data."
   ]
  },
  {
   "cell_type": "code",
   "execution_count": null,
   "id": "5332934c-cf0c-4dee-b588-bae61f4b7b27",
   "metadata": {},
   "outputs": [],
   "source": [
    "# For bigger data sets, it is helpful to have a progress bar\n",
    "fastmapsvm['fastmap'].show_progress = True\n",
    "\n",
    "fastmapsvm.score(X_test, y_test)"
   ]
  },
  {
   "cell_type": "markdown",
   "id": "fa766269-fb09-408f-ab6b-86662347da16",
   "metadata": {},
   "source": [
    "## 4.2 Plot the confusion matrix for the test data"
   ]
  },
  {
   "cell_type": "code",
   "execution_count": null,
   "id": "affb0826-acb2-43c1-8963-006f7b56b10f",
   "metadata": {},
   "outputs": [],
   "source": [
    "y_hat = fastmapsvm.predict(X_test)\n",
    "sklearn.metrics.ConfusionMatrixDisplay.from_predictions(\n",
    "    y_test, \n",
    "    y_hat\n",
    ");"
   ]
  },
  {
   "cell_type": "markdown",
   "id": "4b63536b-8e84-48f3-aaad-35329565bafe",
   "metadata": {},
   "source": [
    "# 5. Model persistence\n",
    "## 5.1 Store the trained model on disk"
   ]
  },
  {
   "cell_type": "code",
   "execution_count": null,
   "id": "d10f7d42-4654-4871-9bd1-07af6ef4a319",
   "metadata": {},
   "outputs": [],
   "source": [
    "import joblib\n",
    "joblib.dump(fastmapsvm, 'fastmapsvm.joblib')\n",
    "\n",
    "del(fastmapsvm)"
   ]
  },
  {
   "cell_type": "markdown",
   "id": "7a2dabba-9c7e-41cb-9361-8b4c9f9be0eb",
   "metadata": {},
   "source": [
    "## 5.2 Load a pre-trained model from disk\n",
    "**Note:** The distance function must be defined within the scope in which you load the model. So, if you train the model in one script, and then try to reload it in another script in which the distance function is not defined, it will not work. For instance, if you restart your Python kernel and immediately run the cell below, before running anything else, you will get `AttributeError: Can't get attribute 'FastMap' on <module '__main__'>`. There is, to my knowledge, no clean way of storing user-defined code and its dependencies alongside the model. The abstract base class paradigm is used to force users to write code in a way that will make it easier for them to reload the model later.\n",
    "\n",
    "If you restart your Python kernel, you need to run the code in sections 2.1 and 2.2 (along with the necessary imports) before running the code in this section."
   ]
  },
  {
   "cell_type": "code",
   "execution_count": null,
   "id": "8bb92e07-9419-40f3-963d-31b5567ced2e",
   "metadata": {},
   "outputs": [],
   "source": [
    "import joblib\n",
    "fastmapsvm = joblib.load('fastmapsvm.joblib')"
   ]
  },
  {
   "cell_type": "markdown",
   "id": "8abd77b5-61b6-4465-80c6-b4800b2989bb",
   "metadata": {},
   "source": [
    "# 6. Unsupervised clustering\n",
    "FastMap was originally designed for unsupervised cluster analysis, and can be trained in unsupervised mode by omitting the labels on training."
   ]
  },
  {
   "cell_type": "code",
   "execution_count": null,
   "id": "51258d0d-66a2-4aa6-b9eb-87b8dc14b2dc",
   "metadata": {},
   "outputs": [],
   "source": [
    "fm = FastMap(2)\n",
    "fm.fit(X_train)\n",
    "W = fm.transform(X_train)\n",
    "\n",
    "plt.close('all')\n",
    "fig, ax = plt.subplots()\n",
    "ax.scatter(W[:, 0], W[:, 1])"
   ]
  },
  {
   "cell_type": "markdown",
   "id": "66e90e9e-f8b1-45ae-87f4-1797eaa7f569",
   "metadata": {},
   "source": [
    "# 7. Minkowski"
   ]
  },
  {
   "cell_type": "code",
   "execution_count": null,
   "id": "d584a21c-0a91-469c-9ec1-dbe2e5012204",
   "metadata": {},
   "outputs": [],
   "source": [
    "a = np.random.rand(3, 3, 3)"
   ]
  },
  {
   "cell_type": "code",
   "execution_count": null,
   "id": "b853433a-3225-4293-9cdf-2844148ad5eb",
   "metadata": {},
   "outputs": [],
   "source": [
    "np.sum(a, axis=(-1, -2))"
   ]
  },
  {
   "cell_type": "code",
   "execution_count": null,
   "id": "31cbb245-4cfa-4f17-b058-425d9427be3a",
   "metadata": {},
   "outputs": [],
   "source": [
    "def minkowski_distance(a, b):\n",
    "    p = 1\n",
    "    d = np.power(np.sum(np.power(np.abs(a-b), p), axis=-1), 1/p)\n",
    "    return np.sqrt(np.sum(np.square(d), axis=-1))\n",
    "\n",
    "class FastMap(fastmap.FastMapABC):\n",
    "    def __init__(self, *args, **kwargs):\n",
    "        super().__init__(*args, **kwargs)\n",
    "        self._distance_func = minkowski_distance"
   ]
  },
  {
   "cell_type": "code",
   "execution_count": null,
   "id": "c0c70f7d-7d0a-47bd-9638-86bcb96c3ffa",
   "metadata": {},
   "outputs": [],
   "source": [
    "fm = FastMap(2)\n",
    "fm.fit(X_train, y=y_train)\n",
    "W = fm.transform(X_train)\n",
    "\n",
    "plt.close('all')\n",
    "fig, ax = plt.subplots()\n",
    "for i in range(2):\n",
    "    idxs = np.argwhere(y_train == i).flatten()\n",
    "    ax.scatter(W[idxs, 0], W[idxs, 1])"
   ]
  }
 ],
 "metadata": {
  "kernelspec": {
   "display_name": "Python [conda env:py310]",
   "language": "python",
   "name": "conda-env-py310-py"
  },
  "language_info": {
   "codemirror_mode": {
    "name": "ipython",
    "version": 3
   },
   "file_extension": ".py",
   "mimetype": "text/x-python",
   "name": "python",
   "nbconvert_exporter": "python",
   "pygments_lexer": "ipython3",
   "version": "3.10.8"
  }
 },
 "nbformat": 4,
 "nbformat_minor": 5
}
