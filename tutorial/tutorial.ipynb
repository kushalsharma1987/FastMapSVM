{
 "cells": [
  {
   "cell_type": "code",
   "execution_count": null,
   "id": "72b5eb16-45e7-4ca3-a3d4-3f3563120676",
   "metadata": {},
   "outputs": [],
   "source": [
    "import fastmapsvm as fm\n",
    "import h5py\n",
    "import numpy as np\n",
    "import sklearn.metrics\n",
    "\n",
    "model_path = \"../data/ridgecrest_model.hdf5\"\n",
    "data_path  = \"../data/ridgecrest.hdf5\"\n",
    "\n",
    "def correlation_distance(a, b):\n",
    "    \"\"\"\n",
    "    Returns the correlation distance between objects a and b.\n",
    "    \"\"\"\n",
    "    return (\n",
    "        1 - np.max(np.abs(np.mean(fm.distance.ndcorrelate(a, b, mode=\"same\"), axis=0)))\n",
    "    )\n",
    "\n",
    "with h5py.File(data_path, mode=\"r\") as f5:\n",
    "    clf = fm.FastMapSVM(\n",
    "        correlation_distance,\n",
    "        8,\n",
    "        model_path\n",
    "    )\n",
    "    clf.fit(f5[\"/X/train\"], f5[\"/y/train\"])\n",
    "    \n",
    "    y_true = f5[\"/y/test\"][:]\n",
    "    proba = clf.predict_proba(f5[\"/X/test\"])\n",
    "    \n",
    "sklearn.metrics.ConfusionMatrixDisplay.from_predictions(\n",
    "    y_true, \n",
    "    proba[:, 1] > 0.5\n",
    ");"
   ]
  },
  {
   "cell_type": "code",
   "execution_count": null,
   "id": "e4c62307-8d0e-4a44-8f68-3786c5cf8965",
   "metadata": {},
   "outputs": [],
   "source": []
  }
 ],
 "metadata": {
  "kernelspec": {
   "display_name": "Python [conda env:py39]",
   "language": "python",
   "name": "conda-env-py39-py"
  },
  "language_info": {
   "codemirror_mode": {
    "name": "ipython",
    "version": 3
   },
   "file_extension": ".py",
   "mimetype": "text/x-python",
   "name": "python",
   "nbconvert_exporter": "python",
   "pygments_lexer": "ipython3",
   "version": "3.9.12"
  }
 },
 "nbformat": 4,
 "nbformat_minor": 5
}
