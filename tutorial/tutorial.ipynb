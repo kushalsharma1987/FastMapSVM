{
 "cells": [
  {
   "cell_type": "code",
   "execution_count": 1,
   "id": "72b5eb16-45e7-4ca3-a3d4-3f3563120676",
   "metadata": {},
   "outputs": [],
   "source": [
    "import fastmapsvm as fm\n",
    "import h5py\n",
    "import numpy as np\n",
    "import sklearn.metrics"
   ]
  },
  {
   "cell_type": "code",
   "execution_count": 2,
   "id": "bb9759ef-394b-4dd2-80dc-3a92516ebc4e",
   "metadata": {},
   "outputs": [],
   "source": [
    "def correlation_distance(a, b):\n",
    "    \"\"\"\n",
    "    Returns the correlation distance between objects a and b.\n",
    "    \"\"\"\n",
    "    return (\n",
    "        1 - np.max(np.abs(np.mean(fm.distance.ndcorrelate(a, b, mode=\"same\"), axis=0)))\n",
    "    )"
   ]
  },
  {
   "cell_type": "code",
   "execution_count": 3,
   "id": "11afc33a-04ce-4c0e-bddd-feabcb45df69",
   "metadata": {},
   "outputs": [
    {
     "data": {
      "application/vnd.jupyter.widget-view+json": {
       "model_id": "1efed50fedfb4cb18fee188090942b96",
       "version_major": 2,
       "version_minor": 0
      },
      "text/plain": [
       "  0%|          | 0/8 [00:00<?, ?it/s]"
      ]
     },
     "metadata": {},
     "output_type": "display_data"
    }
   ],
   "source": [
    "model_path = \"../data/ridgecrest_model.hdf5\"\n",
    "data_path  = \"../data/ridgecrest.hdf5\"\n",
    "\n",
    "with h5py.File(data_path, mode=\"r\") as f5:\n",
    "    clf = fm.FastMapSVM(\n",
    "        correlation_distance,\n",
    "        8,\n",
    "        model_path\n",
    "    )\n",
    "    clf.fit(f5[\"/X/train\"], f5[\"/y/train\"])"
   ]
  },
  {
   "cell_type": "code",
   "execution_count": 6,
   "id": "c5b8ce2d-4ee2-4d12-b671-54ab7870c8e7",
   "metadata": {},
   "outputs": [
    {
     "data": {
      "image/png": "[encoded data removed]",
      "text/plain": [
       "<Figure size 432x288 with 2 Axes>"
      ]
     },
     "metadata": {
      "needs_background": "light"
     },
     "output_type": "display_data"
    }
   ],
   "source": [
    "with h5py.File(data_path, mode=\"r\") as f5:\n",
    "    y_true = f5[\"/y/test\"][:]\n",
    "    proba = clf.predict_proba(f5[\"/X/test\"], f5[\"/y/test\"])\n",
    "    \n",
    "sklearn.metrics.ConfusionMatrixDisplay.from_predictions(\n",
    "    y_true, \n",
    "    proba[:, 1] > 0.5\n",
    ");"
   ]
  },
  {
   "cell_type": "code",
   "execution_count": null,
   "id": "9dfff48c-bdbf-48de-b83c-b54535a5a36e",
   "metadata": {},
   "outputs": [],
   "source": []
  }
 ],
 "metadata": {
  "kernelspec": {
   "display_name": "Python [conda env:py39]",
   "language": "python",
   "name": "conda-env-py39-py"
  },
  "language_info": {
   "codemirror_mode": {
    "name": "ipython",
    "version": 3
   },
   "file_extension": ".py",
   "mimetype": "text/x-python",
   "name": "python",
   "nbconvert_exporter": "python",
   "pygments_lexer": "ipython3",
   "version": "3.9.12"
  }
 },
 "nbformat": 4,
 "nbformat_minor": 5
}
