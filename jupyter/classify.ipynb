{
 "cells": [
  {
   "cell_type": "code",
   "execution_count": null,
   "id": "62b49cd1-aba0-439c-ad11-44eb89d5918c",
   "metadata": {},
   "outputs": [],
   "source": [
    "%matplotlib ipympl\n",
    "\n",
    "import fastmap as fm\n",
    "import h5py\n",
    "import matplotlib as mpl\n",
    "import matplotlib.pyplot as plt\n",
    "import numpy as np\n",
    "import pandas as pd\n",
    "import pathlib\n",
    "import seaborn as sns\n",
    "import sklearn.ensemble\n",
    "import sklearn.metrics\n",
    "import sklearn.svm\n",
    "\n",
    "params = {\n",
    "    \"figure.figsize\": (12.65, 5.71)\n",
    "}\n",
    "sns.set_theme(context=\"talk\", rc=params)"
   ]
  },
  {
   "cell_type": "code",
   "execution_count": null,
   "id": "238f3934-48fd-450a-bee9-346a779d3d17",
   "metadata": {},
   "outputs": [],
   "source": [
    "with h5py.File(\"../data/test_database_00.hdf5\", mode=\"r\") as f5:\n",
    "    X_train = f5[\"X_train\"][:]\n",
    "    y_train = f5[\"y_train\"][:]\n",
    "    X_test   = f5[\"X_test\"][:]\n",
    "    y_test   = f5[\"y_test\"][:]"
   ]
  },
  {
   "cell_type": "code",
   "execution_count": null,
   "id": "9a7f1911-e501-4c07-9255-f994e5b160d9",
   "metadata": {},
   "outputs": [],
   "source": [
    "def plot_wiggles(array):\n",
    "    hspace_station = 2\n",
    "    hspace_channel = 0.5\n",
    "    \n",
    "    fig, ax = plt.subplots()\n",
    "    colors = (\"tab:grey\", \"tab:olive\", \"tab:brown\")\n",
    "    for ista, sgthr in enumerate(array):\n",
    "        for ichan, trace in enumerate(sgthr):\n",
    "            ax.plot(\n",
    "                trace+ista*hspace_station+ichan*hspace_channel, \n",
    "                linewidth=0.5,\n",
    "                color=colors[ichan]\n",
    "            )\n",
    "    ax.set_xlim(0, array.shape[-1])\n",
    "    ax.set_xlabel(\"Sample index\")\n",
    "    ax.set_ylabel(\"Channel index\")\n",
    "    plt.tight_layout()\n",
    "    \n",
    "\n",
    "def plot_colormesh(array):\n",
    "    fig, ax = plt.subplots()\n",
    "    ax.pcolorfast(\n",
    "        array.T\n",
    "    )\n",
    "    ax.invert_yaxis()\n",
    "    plt.tight_layout()"
   ]
  },
  {
   "cell_type": "code",
   "execution_count": null,
   "id": "389b0cb0-f2f8-451d-9582-581db8fd6f5f",
   "metadata": {},
   "outputs": [],
   "source": [
    "%%time\n",
    "\n",
    "path = pathlib.Path(\"fastmap.hdf5\")\n",
    "path.unlink(missing_ok=True)\n",
    "fastmap = fm.FastMap(\n",
    "    X_train, \n",
    "    y_train, \n",
    "    lambda a, b: fm.distance(a, b, mode=\"same\", reduce=lambda c: np.percentile(c, 90, axis=0)), \n",
    "    6, \n",
    "    \"fastmap.hdf5\"\n",
    ")\n",
    "\n",
    "fastmap.embed_database();\n",
    "\n",
    "W_train = fastmap.image[:]\n",
    "df_train = pd.DataFrame(\n",
    "    W_train,\n",
    "    columns=[f\"x{i}\" for i in range(W_train.shape[-1])]\n",
    ")\n",
    "df_train[\"target\"] = y_train"
   ]
  },
  {
   "cell_type": "code",
   "execution_count": null,
   "id": "a6e59cc2-a9c9-43ee-afe3-d16b5680383a",
   "metadata": {},
   "outputs": [],
   "source": []
  },
  {
   "cell_type": "code",
   "execution_count": null,
   "id": "8e60d45b-bd8b-432f-b4f5-a67f76c2574b",
   "metadata": {},
   "outputs": [],
   "source": [
    "plt.close(\"all\")\n",
    "sns.pairplot(df_train.loc[:, [\"x0\", \"x1\", \"x2\", \"x3\", \"target\"]], hue=\"target\")\n",
    "# plt.tight_layout()"
   ]
  },
  {
   "cell_type": "code",
   "execution_count": null,
   "id": "86866c63-0a5b-4333-ae31-4e24eddd23e5",
   "metadata": {},
   "outputs": [],
   "source": [
    "plt.tight_layout()"
   ]
  },
  {
   "cell_type": "code",
   "execution_count": null,
   "id": "1061ffbb-b9a3-4090-867d-445271825c74",
   "metadata": {},
   "outputs": [],
   "source": [
    "%%time\n",
    "\n",
    "W_test = np.vstack([fastmap.embed(X) for X in X_test])\n",
    "\n",
    "df_test = pd.DataFrame(\n",
    "    W_test,\n",
    "    columns=[f\"x{i}\" for i in range(W_test.shape[-1])]\n",
    ")\n",
    "df_test[\"target\"] = y_test"
   ]
  },
  {
   "cell_type": "code",
   "execution_count": null,
   "id": "f22992a7-1fbe-47b0-9361-2c4e49d63ed4",
   "metadata": {},
   "outputs": [],
   "source": [
    "sns.pairplot(df_test.loc[:, [\"x0\", \"x1\", \"x2\", \"x3\", \"target\"]], hue=\"target\")"
   ]
  },
  {
   "cell_type": "code",
   "execution_count": null,
   "id": "77239c30-e394-4769-b980-459691b0e0da",
   "metadata": {},
   "outputs": [],
   "source": [
    "clf = sklearn.svm.SVC(**best_params)\n",
    "clf.fit(W_train[:, :best_ndim], y_train)"
   ]
  },
  {
   "cell_type": "code",
   "execution_count": null,
   "id": "22fce861-b080-4e91-8d9f-95a2ac248592",
   "metadata": {},
   "outputs": [],
   "source": [
    "# plt.close(\"all\")\n",
    "fig, ax = plt.subplots()\n",
    "sklearn.metrics.plot_confusion_matrix(clf, W_test[:, :best_ndim], y_test, ax=ax)\n",
    "ax.grid(False)"
   ]
  },
  {
   "cell_type": "code",
   "execution_count": null,
   "id": "16c9e7f3-f609-472c-97a5-bf7b46ccfd09",
   "metadata": {},
   "outputs": [],
   "source": [
    "y_pred = clf.predict(W_test[:, :best_ndim])"
   ]
  },
  {
   "cell_type": "code",
   "execution_count": null,
   "id": "618b27ad-d59c-4eb4-bb10-4e77eb7d7816",
   "metadata": {},
   "outputs": [],
   "source": [
    "def plot_wiggles(noise, microseisms):\n",
    "    hspace_station = 2\n",
    "    hspace_channel = 0.5\n",
    "    \n",
    "    fig, axes = plt.subplots(ncols=2, sharex=True, sharey=True)\n",
    "    colors = (\"tab:grey\", \"tab:olive\", \"tab:brown\")\n",
    "    for ista, sgthr in enumerate(noise):\n",
    "        for ichan, trace in enumerate(sgthr):\n",
    "            axes[0].plot(\n",
    "                trace+ista*hspace_station+ichan*hspace_channel, \n",
    "                linewidth=0.5,\n",
    "                color=colors[ichan]\n",
    "            )\n",
    "    for ista, sgthr in enumerate(microseisms):\n",
    "        for ichan, trace in enumerate(sgthr):\n",
    "            axes[1].plot(\n",
    "                trace+ista*hspace_station+ichan*hspace_channel, \n",
    "                linewidth=0.5,\n",
    "                color=colors[ichan]\n",
    "            )\n",
    "    \n",
    "    for ax in axes:\n",
    "        ax.set_xlim(0, noise.shape[-1])\n",
    "        ax.set_xlabel(\"Sample index\")\n",
    "    axes[0].set_ylabel(\"Channel index\")\n",
    "    axes[0].set_title(\"Noise\")\n",
    "    axes[1].set_title(\"Microseism\")\n",
    "    plt.tight_layout()"
   ]
  },
  {
   "cell_type": "code",
   "execution_count": null,
   "id": "667d953b-7bf5-4d85-90d8-d7cb94f3f2b5",
   "metadata": {},
   "outputs": [],
   "source": [
    "plt.close(\"all\")\n",
    "plot_wiggles(X_test[0], X_test[72])"
   ]
  },
  {
   "cell_type": "code",
   "execution_count": null,
   "id": "5ca638a2-177d-4130-9a90-1d28bbdcd32b",
   "metadata": {},
   "outputs": [],
   "source": [
    "for i in np.nonzero(y_pred != y_test)[0]:\n",
    "    print(y_pred[i], y_test[i])\n",
    "    plot_wiggles(X_test[i])"
   ]
  },
  {
   "cell_type": "code",
   "execution_count": null,
   "id": "9f9cebca-22b5-49ad-a591-a866aa5d96cb",
   "metadata": {},
   "outputs": [],
   "source": []
  }
 ],
 "metadata": {
  "kernelspec": {
   "display_name": "Python [conda env:py39]",
   "language": "python",
   "name": "conda-env-py39-py"
  },
  "language_info": {
   "codemirror_mode": {
    "name": "ipython",
    "version": 3
   },
   "file_extension": ".py",
   "mimetype": "text/x-python",
   "name": "python",
   "nbconvert_exporter": "python",
   "pygments_lexer": "ipython3",
   "version": "3.9.7"
  }
 },
 "nbformat": 4,
 "nbformat_minor": 5
}
