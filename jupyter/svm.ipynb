{
 "cells": [
  {
   "cell_type": "code",
   "execution_count": null,
   "id": "b54ef36a-9786-46e7-8ba6-f94f6fc8a045",
   "metadata": {},
   "outputs": [],
   "source": [
    "%matplotlib ipympl\n",
    "\n",
    "import fastmap as fm\n",
    "import matplotlib.pyplot as plt\n",
    "import matplotlib as mpl\n",
    "import numpy as np\n",
    "import obspy\n",
    "import sklearn.model_selection\n",
    "import sklearn.preprocessing\n",
    "import sklearn.svm"
   ]
  },
  {
   "cell_type": "markdown",
   "id": "2f6d47a5-e59a-426d-a3fa-7d5e8356a7d3",
   "metadata": {},
   "source": [
    "# Build a test database"
   ]
  },
  {
   "cell_type": "code",
   "execution_count": null,
   "id": "3173216d-8e8c-4979-a99b-24b734023a5c",
   "metadata": {},
   "outputs": [],
   "source": [
    "nobj = 256\n",
    "\n",
    "stream = obspy.read(\"../data/CI.CLC.HHZ.2019.185.msd\")\n",
    "\n",
    "noise = stream.slice(\n",
    "    starttime=obspy.UTCDateTime(\"2019-07-04T18:06:10\"),\n",
    "    endtime=obspy.UTCDateTime(\"2019-07-04T18:06:18\")\n",
    ").normalize()[0]\n",
    "\n",
    "signal = stream.slice(\n",
    "    starttime=obspy.UTCDateTime(\"2019-07-04T18:06:18\"),\n",
    "    endtime=obspy.UTCDateTime(\"2019-07-04T18:06:26\")\n",
    ").normalize()[0]\n",
    "\n",
    "database = np.empty((nobj, 801))\n",
    "labels = list()\n",
    "for i in range(database.shape[0]):\n",
    "    label = np.random.choice([0, 1])\n",
    "    trace = [signal, noise][label].copy()\n",
    "    trace.data += 2 * np.random.rand() * np.random.choice(noise.data, size=trace.stats.npts)\n",
    "    trace.normalize()\n",
    "    database[i, :] = trace.data\n",
    "    labels.append(label)"
   ]
  },
  {
   "cell_type": "markdown",
   "id": "c13f0e7d-83c9-4acb-bd26-b2178d8211f3",
   "metadata": {},
   "source": [
    "# Embed the test database"
   ]
  },
  {
   "cell_type": "code",
   "execution_count": null,
   "id": "c155b72e-02b7-4526-8b32-79bcdfb97ce1",
   "metadata": {},
   "outputs": [],
   "source": [
    "fastmap = fm.FastMap(database, fm.distance, 2, \"test.hdf5\")\n",
    "fastmap.embed_database();"
   ]
  },
  {
   "cell_type": "code",
   "execution_count": null,
   "id": "df719b97-a26d-40fe-adab-d0786123b7e1",
   "metadata": {},
   "outputs": [],
   "source": [
    "plt.close(\"all\")\n",
    "fig, axes = plt.subplots(nrows=fastmap.ndim, ncols=fastmap.ndim)\n",
    "\n",
    "for icol in range(fastmap.ndim):\n",
    "    for irow in range(icol, fastmap.ndim):\n",
    "        axes[irow, icol].scatter(\n",
    "            fastmap.image[:, irow],\n",
    "            fastmap.image[:, icol],\n",
    "            c=labels,\n",
    "            cmap=plt.get_cmap(\"RdBu\"),\n",
    "            s=4\n",
    "        )"
   ]
  },
  {
   "cell_type": "markdown",
   "id": "cf29bff7-c738-4319-bb3b-671784d11d97",
   "metadata": {},
   "source": [
    "# Perform SVM classification"
   ]
  },
  {
   "cell_type": "code",
   "execution_count": null,
   "id": "f1b081fa-4f88-4c56-9c30-8e4bfd456133",
   "metadata": {},
   "outputs": [],
   "source": [
    "X = sklearn.preprocessing.StandardScaler().fit_transform(fastmap.image[:])\n",
    "y = labels\n",
    "\n",
    "classifier = sklearn.svm.SVC(gamma=2, C=1)\n",
    "X_train, X_test, y_train, y_test = sklearn.model_selection.train_test_split(X, y, test_size=1/4)\n",
    "classifier.fit(X_train, y_train)\n",
    "classifier.score(X_test, y_test)"
   ]
  },
  {
   "cell_type": "code",
   "execution_count": null,
   "id": "1294edc2-80da-4372-a3c4-59e69c1dbea3",
   "metadata": {},
   "outputs": [],
   "source": [
    "h = 1/32\n",
    "\n",
    "plt.close(\"all\")\n",
    "fig, ax = plt.subplots(1, 1)\n",
    "\n",
    "x_min, x_max = X[:, 0].min() - .5, X[:, 0].max() + .5\n",
    "y_min, y_max = X[:, 1].min() - .5, X[:, 1].max() + .5\n",
    "xx, yy = np.meshgrid(np.arange(x_min, x_max, h),\n",
    "                     np.arange(y_min, y_max, h))\n",
    "\n",
    "cm = plt.cm.RdBu\n",
    "cm_bright = mpl.colors.ListedColormap(['#FF0000', '#0000FF'])\n",
    "# Plot the training points\n",
    "ax.scatter(X_train[:, 0], X_train[:, 1], c=y_train, cmap=cm_bright,\n",
    "           edgecolors='k')\n",
    "# Plot the testing points\n",
    "ax.scatter(X_test[:, 0], X_test[:, 1], c=y_test, cmap=cm_bright, alpha=0.6,\n",
    "           edgecolors='k')\n",
    "\n",
    "Z = classifier.decision_function(np.c_[xx.ravel(), yy.ravel()])\n",
    "Z = Z.reshape(xx.shape)\n",
    "ax.contourf(xx, yy, Z, cmap=cm, alpha=.8)"
   ]
  }
 ],
 "metadata": {
  "kernelspec": {
   "display_name": "Python [conda env:py39]",
   "language": "python",
   "name": "conda-env-py39-py"
  },
  "language_info": {
   "codemirror_mode": {
    "name": "ipython",
    "version": 3
   },
   "file_extension": ".py",
   "mimetype": "text/x-python",
   "name": "python",
   "nbconvert_exporter": "python",
   "pygments_lexer": "ipython3",
   "version": "3.9.4"
  }
 },
 "nbformat": 4,
 "nbformat_minor": 5
}
